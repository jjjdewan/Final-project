{
 "cells": [
  {
   "cell_type": "markdown",
   "metadata": {},
   "source": [
    "# Stock Price Prediction Model for TESLA"
   ]
  },
  {
   "cell_type": "markdown",
   "metadata": {},
   "source": [
    "# A Comparative Study of Linear Regression, K-Nearest Neighbor (KNN) and Support Vector Machine (SVM)"
   ]
  },
  {
   "cell_type": "code",
   "execution_count": 8,
   "metadata": {},
   "outputs": [],
   "source": [
    "# 1. Import prerequisites:\n",
    "import pandas as pd\n",
    "from sklearn.linear_model import LinearRegression\n",
    "from sklearn.model_selection import train_test_split\n",
    "import matplotlib.pyplot as plt\n",
    "import numpy as np\n",
    "import pandas_datareader as web\n",
    "from pandas_datareader import data as web\n",
    "from datetime import datetime\n",
    "\n",
    "import seaborn as sns\n",
    "from sklearn.preprocessing import MinMaxScaler\n",
    "\n",
    "\n",
    "import os\n",
    "from os import listdir\n",
    "from PIL import Image\n"
   ]
  },
  {
   "cell_type": "code",
   "execution_count": 12,
   "metadata": {},
   "outputs": [
    {
     "data": {
      "text/html": [
       "<div>\n",
       "<style scoped>\n",
       "    .dataframe tbody tr th:only-of-type {\n",
       "        vertical-align: middle;\n",
       "    }\n",
       "\n",
       "    .dataframe tbody tr th {\n",
       "        vertical-align: top;\n",
       "    }\n",
       "\n",
       "    .dataframe thead th {\n",
       "        text-align: right;\n",
       "    }\n",
       "</style>\n",
       "<table border=\"1\" class=\"dataframe\">\n",
       "  <thead>\n",
       "    <tr style=\"text-align: right;\">\n",
       "      <th></th>\n",
       "      <th>High</th>\n",
       "      <th>Low</th>\n",
       "      <th>Open</th>\n",
       "      <th>Close</th>\n",
       "      <th>Volume</th>\n",
       "      <th>Adj Close</th>\n",
       "    </tr>\n",
       "    <tr>\n",
       "      <th>Date</th>\n",
       "      <th></th>\n",
       "      <th></th>\n",
       "      <th></th>\n",
       "      <th></th>\n",
       "      <th></th>\n",
       "      <th></th>\n",
       "    </tr>\n",
       "  </thead>\n",
       "  <tbody>\n",
       "    <tr>\n",
       "      <th>2020-01-02</th>\n",
       "      <td>86.139999</td>\n",
       "      <td>84.342003</td>\n",
       "      <td>84.900002</td>\n",
       "      <td>86.052002</td>\n",
       "      <td>47660500.0</td>\n",
       "      <td>86.052002</td>\n",
       "    </tr>\n",
       "    <tr>\n",
       "      <th>2020-01-03</th>\n",
       "      <td>90.800003</td>\n",
       "      <td>87.384003</td>\n",
       "      <td>88.099998</td>\n",
       "      <td>88.601997</td>\n",
       "      <td>88892500.0</td>\n",
       "      <td>88.601997</td>\n",
       "    </tr>\n",
       "    <tr>\n",
       "      <th>2020-01-06</th>\n",
       "      <td>90.311996</td>\n",
       "      <td>88.000000</td>\n",
       "      <td>88.094002</td>\n",
       "      <td>90.307999</td>\n",
       "      <td>50665000.0</td>\n",
       "      <td>90.307999</td>\n",
       "    </tr>\n",
       "    <tr>\n",
       "      <th>2020-01-07</th>\n",
       "      <td>94.325996</td>\n",
       "      <td>90.671997</td>\n",
       "      <td>92.279999</td>\n",
       "      <td>93.811996</td>\n",
       "      <td>89410500.0</td>\n",
       "      <td>93.811996</td>\n",
       "    </tr>\n",
       "    <tr>\n",
       "      <th>2020-01-08</th>\n",
       "      <td>99.697998</td>\n",
       "      <td>93.646004</td>\n",
       "      <td>94.739998</td>\n",
       "      <td>98.428001</td>\n",
       "      <td>155721500.0</td>\n",
       "      <td>98.428001</td>\n",
       "    </tr>\n",
       "  </tbody>\n",
       "</table>\n",
       "</div>"
      ],
      "text/plain": [
       "                 High        Low       Open      Close       Volume  Adj Close\n",
       "Date                                                                          \n",
       "2020-01-02  86.139999  84.342003  84.900002  86.052002   47660500.0  86.052002\n",
       "2020-01-03  90.800003  87.384003  88.099998  88.601997   88892500.0  88.601997\n",
       "2020-01-06  90.311996  88.000000  88.094002  90.307999   50665000.0  90.307999\n",
       "2020-01-07  94.325996  90.671997  92.279999  93.811996   89410500.0  93.811996\n",
       "2020-01-08  99.697998  93.646004  94.739998  98.428001  155721500.0  98.428001"
      ]
     },
     "execution_count": 12,
     "metadata": {},
     "output_type": "execute_result"
    }
   ],
   "source": [
    "# 2. Read and Display\n",
    "start = datetime(2020, 1, 1)\n",
    "end = datetime(2021, 2,5)\n",
    "\n",
    "df = web.get_data_yahoo('TSLA',start=start,end=end)\n",
    "df.head()\n"
   ]
  },
  {
   "cell_type": "code",
   "execution_count": 13,
   "metadata": {},
   "outputs": [
    {
     "data": {
      "text/html": [
       "<div>\n",
       "<style scoped>\n",
       "    .dataframe tbody tr th:only-of-type {\n",
       "        vertical-align: middle;\n",
       "    }\n",
       "\n",
       "    .dataframe tbody tr th {\n",
       "        vertical-align: top;\n",
       "    }\n",
       "\n",
       "    .dataframe thead th {\n",
       "        text-align: right;\n",
       "    }\n",
       "</style>\n",
       "<table border=\"1\" class=\"dataframe\">\n",
       "  <thead>\n",
       "    <tr style=\"text-align: right;\">\n",
       "      <th></th>\n",
       "      <th>High</th>\n",
       "      <th>Low</th>\n",
       "      <th>Open</th>\n",
       "      <th>Close</th>\n",
       "      <th>Volume</th>\n",
       "      <th>Adj Close</th>\n",
       "    </tr>\n",
       "  </thead>\n",
       "  <tbody>\n",
       "    <tr>\n",
       "      <th>count</th>\n",
       "      <td>277.000000</td>\n",
       "      <td>277.000000</td>\n",
       "      <td>277.000000</td>\n",
       "      <td>277.000000</td>\n",
       "      <td>2.770000e+02</td>\n",
       "      <td>277.000000</td>\n",
       "    </tr>\n",
       "    <tr>\n",
       "      <th>mean</th>\n",
       "      <td>345.104181</td>\n",
       "      <td>327.040353</td>\n",
       "      <td>336.089503</td>\n",
       "      <td>337.131869</td>\n",
       "      <td>7.171868e+07</td>\n",
       "      <td>337.131869</td>\n",
       "    </tr>\n",
       "    <tr>\n",
       "      <th>std</th>\n",
       "      <td>226.393215</td>\n",
       "      <td>217.312008</td>\n",
       "      <td>221.768839</td>\n",
       "      <td>223.000938</td>\n",
       "      <td>4.034816e+07</td>\n",
       "      <td>223.000938</td>\n",
       "    </tr>\n",
       "    <tr>\n",
       "      <th>min</th>\n",
       "      <td>80.972000</td>\n",
       "      <td>70.101997</td>\n",
       "      <td>74.940002</td>\n",
       "      <td>72.244003</td>\n",
       "      <td>1.581270e+07</td>\n",
       "      <td>72.244003</td>\n",
       "    </tr>\n",
       "    <tr>\n",
       "      <th>25%</th>\n",
       "      <td>159.279999</td>\n",
       "      <td>149.531998</td>\n",
       "      <td>155.300003</td>\n",
       "      <td>153.824005</td>\n",
       "      <td>4.312900e+07</td>\n",
       "      <td>153.824005</td>\n",
       "    </tr>\n",
       "    <tr>\n",
       "      <th>50%</th>\n",
       "      <td>303.410004</td>\n",
       "      <td>286.200012</td>\n",
       "      <td>295.432007</td>\n",
       "      <td>297.003998</td>\n",
       "      <td>6.618800e+07</td>\n",
       "      <td>297.003998</td>\n",
       "    </tr>\n",
       "    <tr>\n",
       "      <th>75%</th>\n",
       "      <td>448.880005</td>\n",
       "      <td>426.459991</td>\n",
       "      <td>439.869995</td>\n",
       "      <td>439.670013</td>\n",
       "      <td>8.900750e+07</td>\n",
       "      <td>439.670013</td>\n",
       "    </tr>\n",
       "    <tr>\n",
       "      <th>max</th>\n",
       "      <td>900.400024</td>\n",
       "      <td>871.599976</td>\n",
       "      <td>891.380005</td>\n",
       "      <td>883.090027</td>\n",
       "      <td>3.046940e+08</td>\n",
       "      <td>883.090027</td>\n",
       "    </tr>\n",
       "  </tbody>\n",
       "</table>\n",
       "</div>"
      ],
      "text/plain": [
       "             High         Low        Open       Close        Volume  \\\n",
       "count  277.000000  277.000000  277.000000  277.000000  2.770000e+02   \n",
       "mean   345.104181  327.040353  336.089503  337.131869  7.171868e+07   \n",
       "std    226.393215  217.312008  221.768839  223.000938  4.034816e+07   \n",
       "min     80.972000   70.101997   74.940002   72.244003  1.581270e+07   \n",
       "25%    159.279999  149.531998  155.300003  153.824005  4.312900e+07   \n",
       "50%    303.410004  286.200012  295.432007  297.003998  6.618800e+07   \n",
       "75%    448.880005  426.459991  439.869995  439.670013  8.900750e+07   \n",
       "max    900.400024  871.599976  891.380005  883.090027  3.046940e+08   \n",
       "\n",
       "        Adj Close  \n",
       "count  277.000000  \n",
       "mean   337.131869  \n",
       "std    223.000938  \n",
       "min     72.244003  \n",
       "25%    153.824005  \n",
       "50%    297.003998  \n",
       "75%    439.670013  \n",
       "max    883.090027  "
      ]
     },
     "execution_count": 13,
     "metadata": {},
     "output_type": "execute_result"
    }
   ],
   "source": [
    "df.reset_index(inplace=True)\n",
    "df.describe()"
   ]
  },
  {
   "cell_type": "code",
   "execution_count": 14,
   "metadata": {},
   "outputs": [
    {
     "data": {
      "text/html": [
       "<div>\n",
       "<style scoped>\n",
       "    .dataframe tbody tr th:only-of-type {\n",
       "        vertical-align: middle;\n",
       "    }\n",
       "\n",
       "    .dataframe tbody tr th {\n",
       "        vertical-align: top;\n",
       "    }\n",
       "\n",
       "    .dataframe thead th {\n",
       "        text-align: right;\n",
       "    }\n",
       "</style>\n",
       "<table border=\"1\" class=\"dataframe\">\n",
       "  <thead>\n",
       "    <tr style=\"text-align: right;\">\n",
       "      <th></th>\n",
       "      <th>High</th>\n",
       "      <th>Low</th>\n",
       "      <th>Open</th>\n",
       "      <th>Close</th>\n",
       "      <th>Volume</th>\n",
       "      <th>Adj Close</th>\n",
       "    </tr>\n",
       "  </thead>\n",
       "  <tbody>\n",
       "    <tr>\n",
       "      <th>High</th>\n",
       "      <td>1.000000</td>\n",
       "      <td>0.998819</td>\n",
       "      <td>0.999176</td>\n",
       "      <td>0.999306</td>\n",
       "      <td>-0.440237</td>\n",
       "      <td>0.999306</td>\n",
       "    </tr>\n",
       "    <tr>\n",
       "      <th>Low</th>\n",
       "      <td>0.998819</td>\n",
       "      <td>1.000000</td>\n",
       "      <td>0.999013</td>\n",
       "      <td>0.998983</td>\n",
       "      <td>-0.466074</td>\n",
       "      <td>0.998983</td>\n",
       "    </tr>\n",
       "    <tr>\n",
       "      <th>Open</th>\n",
       "      <td>0.999176</td>\n",
       "      <td>0.999013</td>\n",
       "      <td>1.000000</td>\n",
       "      <td>0.998192</td>\n",
       "      <td>-0.453418</td>\n",
       "      <td>0.998192</td>\n",
       "    </tr>\n",
       "    <tr>\n",
       "      <th>Close</th>\n",
       "      <td>0.999306</td>\n",
       "      <td>0.998983</td>\n",
       "      <td>0.998192</td>\n",
       "      <td>1.000000</td>\n",
       "      <td>-0.449735</td>\n",
       "      <td>1.000000</td>\n",
       "    </tr>\n",
       "    <tr>\n",
       "      <th>Volume</th>\n",
       "      <td>-0.440237</td>\n",
       "      <td>-0.466074</td>\n",
       "      <td>-0.453418</td>\n",
       "      <td>-0.449735</td>\n",
       "      <td>1.000000</td>\n",
       "      <td>-0.449735</td>\n",
       "    </tr>\n",
       "    <tr>\n",
       "      <th>Adj Close</th>\n",
       "      <td>0.999306</td>\n",
       "      <td>0.998983</td>\n",
       "      <td>0.998192</td>\n",
       "      <td>1.000000</td>\n",
       "      <td>-0.449735</td>\n",
       "      <td>1.000000</td>\n",
       "    </tr>\n",
       "  </tbody>\n",
       "</table>\n",
       "</div>"
      ],
      "text/plain": [
       "               High       Low      Open     Close    Volume  Adj Close\n",
       "High       1.000000  0.998819  0.999176  0.999306 -0.440237   0.999306\n",
       "Low        0.998819  1.000000  0.999013  0.998983 -0.466074   0.998983\n",
       "Open       0.999176  0.999013  1.000000  0.998192 -0.453418   0.998192\n",
       "Close      0.999306  0.998983  0.998192  1.000000 -0.449735   1.000000\n",
       "Volume    -0.440237 -0.466074 -0.453418 -0.449735  1.000000  -0.449735\n",
       "Adj Close  0.999306  0.998983  0.998192  1.000000 -0.449735   1.000000"
      ]
     },
     "execution_count": 14,
     "metadata": {},
     "output_type": "execute_result"
    }
   ],
   "source": [
    "# 3. Check for Correlation\n",
    "# \n",
    "corr = df.corr()\n",
    "corr\n"
   ]
  },
  {
   "cell_type": "code",
   "execution_count": 15,
   "metadata": {},
   "outputs": [
    {
     "data": {
      "text/plain": [
       "<AxesSubplot:>"
      ]
     },
     "execution_count": 15,
     "metadata": {},
     "output_type": "execute_result"
    },
    {
     "data": {
      "image/png": "[encoded data removed]",
      "text/plain": [
       "<Figure size 432x288 with 2 Axes>"
      ]
     },
     "metadata": {
      "needs_background": "light"
     },
     "output_type": "display_data"
    }
   ],
   "source": [
    "# Correlatio heatmap\n",
    "#\n",
    "import seaborn as sb\n",
    "sb.heatmap(corr,xticklabels=corr.columns, yticklabels=corr.columns,\n",
    " cmap='RdBu_r', annot=True, linewidth=0.5)"
   ]
  },
  {
   "cell_type": "code",
   "execution_count": 16,
   "metadata": {},
   "outputs": [
    {
     "data": {
      "text/html": [
       "<div>\n",
       "<style scoped>\n",
       "    .dataframe tbody tr th:only-of-type {\n",
       "        vertical-align: middle;\n",
       "    }\n",
       "\n",
       "    .dataframe tbody tr th {\n",
       "        vertical-align: top;\n",
       "    }\n",
       "\n",
       "    .dataframe thead th {\n",
       "        text-align: right;\n",
       "    }\n",
       "</style>\n",
       "<table border=\"1\" class=\"dataframe\">\n",
       "  <thead>\n",
       "    <tr style=\"text-align: right;\">\n",
       "      <th></th>\n",
       "      <th>Date</th>\n",
       "      <th>High</th>\n",
       "      <th>Open</th>\n",
       "      <th>Low</th>\n",
       "      <th>Close</th>\n",
       "    </tr>\n",
       "  </thead>\n",
       "  <tbody>\n",
       "    <tr>\n",
       "      <th>0</th>\n",
       "      <td>2020-01-02</td>\n",
       "      <td>86.139999</td>\n",
       "      <td>84.900002</td>\n",
       "      <td>84.342003</td>\n",
       "      <td>86.052002</td>\n",
       "    </tr>\n",
       "    <tr>\n",
       "      <th>1</th>\n",
       "      <td>2020-01-03</td>\n",
       "      <td>90.800003</td>\n",
       "      <td>88.099998</td>\n",
       "      <td>87.384003</td>\n",
       "      <td>88.601997</td>\n",
       "    </tr>\n",
       "    <tr>\n",
       "      <th>2</th>\n",
       "      <td>2020-01-06</td>\n",
       "      <td>90.311996</td>\n",
       "      <td>88.094002</td>\n",
       "      <td>88.000000</td>\n",
       "      <td>90.307999</td>\n",
       "    </tr>\n",
       "    <tr>\n",
       "      <th>3</th>\n",
       "      <td>2020-01-07</td>\n",
       "      <td>94.325996</td>\n",
       "      <td>92.279999</td>\n",
       "      <td>90.671997</td>\n",
       "      <td>93.811996</td>\n",
       "    </tr>\n",
       "    <tr>\n",
       "      <th>4</th>\n",
       "      <td>2020-01-08</td>\n",
       "      <td>99.697998</td>\n",
       "      <td>94.739998</td>\n",
       "      <td>93.646004</td>\n",
       "      <td>98.428001</td>\n",
       "    </tr>\n",
       "    <tr>\n",
       "      <th>5</th>\n",
       "      <td>2020-01-09</td>\n",
       "      <td>99.760002</td>\n",
       "      <td>99.419998</td>\n",
       "      <td>94.573997</td>\n",
       "      <td>96.267998</td>\n",
       "    </tr>\n",
       "    <tr>\n",
       "      <th>6</th>\n",
       "      <td>2020-01-10</td>\n",
       "      <td>96.987999</td>\n",
       "      <td>96.358002</td>\n",
       "      <td>94.739998</td>\n",
       "      <td>95.629997</td>\n",
       "    </tr>\n",
       "    <tr>\n",
       "      <th>7</th>\n",
       "      <td>2020-01-13</td>\n",
       "      <td>105.125999</td>\n",
       "      <td>98.699997</td>\n",
       "      <td>98.400002</td>\n",
       "      <td>104.972000</td>\n",
       "    </tr>\n",
       "    <tr>\n",
       "      <th>8</th>\n",
       "      <td>2020-01-14</td>\n",
       "      <td>109.482002</td>\n",
       "      <td>108.851997</td>\n",
       "      <td>104.980003</td>\n",
       "      <td>107.584000</td>\n",
       "    </tr>\n",
       "    <tr>\n",
       "      <th>9</th>\n",
       "      <td>2020-01-15</td>\n",
       "      <td>107.568001</td>\n",
       "      <td>105.952003</td>\n",
       "      <td>103.358002</td>\n",
       "      <td>103.699997</td>\n",
       "    </tr>\n",
       "  </tbody>\n",
       "</table>\n",
       "</div>"
      ],
      "text/plain": [
       "        Date        High        Open         Low       Close\n",
       "0 2020-01-02   86.139999   84.900002   84.342003   86.052002\n",
       "1 2020-01-03   90.800003   88.099998   87.384003   88.601997\n",
       "2 2020-01-06   90.311996   88.094002   88.000000   90.307999\n",
       "3 2020-01-07   94.325996   92.279999   90.671997   93.811996\n",
       "4 2020-01-08   99.697998   94.739998   93.646004   98.428001\n",
       "5 2020-01-09   99.760002   99.419998   94.573997   96.267998\n",
       "6 2020-01-10   96.987999   96.358002   94.739998   95.629997\n",
       "7 2020-01-13  105.125999   98.699997   98.400002  104.972000\n",
       "8 2020-01-14  109.482002  108.851997  104.980003  107.584000\n",
       "9 2020-01-15  107.568001  105.952003  103.358002  103.699997"
      ]
     },
     "execution_count": 16,
     "metadata": {},
     "output_type": "execute_result"
    }
   ],
   "source": [
    "# 4. Visualize the Dependent variable with Independent Feature\n",
    "# prepare dataset to work with \n",
    "tsla_df=df[[\"Date\",\"High\",\"Open\",\"Low\",\"Close\"]]\n",
    "tsla_df.head(10)\n"
   ]
  },
  {
   "cell_type": "code",
   "execution_count": 17,
   "metadata": {},
   "outputs": [
    {
     "data": {
      "image/png": "[encoded data removed]",
      "text/plain": [
       "<Figure size 1152x576 with 1 Axes>"
      ]
     },
     "metadata": {
      "needs_background": "light"
     },
     "output_type": "display_data"
    }
   ],
   "source": [
    "plt.figure(figsize=(16,8))\n",
    "plt.title('Tesla Stocks Closing Price History 2012-2020')\n",
    "plt.plot(tsla_df['Date'],tsla_df['Close'])\n",
    "plt.xlabel('Date',fontsize=18)\n",
    "plt.ylabel('Close Price US($)',fontsize=18)\n",
    "plt.style.use('fivethirtyeight')\n",
    "plt.show()"
   ]
  },
  {
   "cell_type": "code",
   "execution_count": 18,
   "metadata": {},
   "outputs": [
    {
     "data": {
      "text/html": [
       "<div>\n",
       "<style scoped>\n",
       "    .dataframe tbody tr th:only-of-type {\n",
       "        vertical-align: middle;\n",
       "    }\n",
       "\n",
       "    .dataframe tbody tr th {\n",
       "        vertical-align: top;\n",
       "    }\n",
       "\n",
       "    .dataframe thead th {\n",
       "        text-align: right;\n",
       "    }\n",
       "</style>\n",
       "<table border=\"1\" class=\"dataframe\">\n",
       "  <thead>\n",
       "    <tr style=\"text-align: right;\">\n",
       "      <th></th>\n",
       "      <th>Date</th>\n",
       "      <th>High</th>\n",
       "      <th>Open</th>\n",
       "      <th>Low</th>\n",
       "      <th>Close</th>\n",
       "    </tr>\n",
       "  </thead>\n",
       "  <tbody>\n",
       "    <tr>\n",
       "      <th>0</th>\n",
       "      <td>2020-01-02</td>\n",
       "      <td>86.139999</td>\n",
       "      <td>84.900002</td>\n",
       "      <td>84.342003</td>\n",
       "      <td>86.052002</td>\n",
       "    </tr>\n",
       "    <tr>\n",
       "      <th>1</th>\n",
       "      <td>2020-01-03</td>\n",
       "      <td>90.800003</td>\n",
       "      <td>88.099998</td>\n",
       "      <td>87.384003</td>\n",
       "      <td>88.601997</td>\n",
       "    </tr>\n",
       "    <tr>\n",
       "      <th>2</th>\n",
       "      <td>2020-01-06</td>\n",
       "      <td>90.311996</td>\n",
       "      <td>88.094002</td>\n",
       "      <td>88.000000</td>\n",
       "      <td>90.307999</td>\n",
       "    </tr>\n",
       "    <tr>\n",
       "      <th>3</th>\n",
       "      <td>2020-01-07</td>\n",
       "      <td>94.325996</td>\n",
       "      <td>92.279999</td>\n",
       "      <td>90.671997</td>\n",
       "      <td>93.811996</td>\n",
       "    </tr>\n",
       "    <tr>\n",
       "      <th>4</th>\n",
       "      <td>2020-01-08</td>\n",
       "      <td>99.697998</td>\n",
       "      <td>94.739998</td>\n",
       "      <td>93.646004</td>\n",
       "      <td>98.428001</td>\n",
       "    </tr>\n",
       "    <tr>\n",
       "      <th>5</th>\n",
       "      <td>2020-01-09</td>\n",
       "      <td>99.760002</td>\n",
       "      <td>99.419998</td>\n",
       "      <td>94.573997</td>\n",
       "      <td>96.267998</td>\n",
       "    </tr>\n",
       "    <tr>\n",
       "      <th>6</th>\n",
       "      <td>2020-01-10</td>\n",
       "      <td>96.987999</td>\n",
       "      <td>96.358002</td>\n",
       "      <td>94.739998</td>\n",
       "      <td>95.629997</td>\n",
       "    </tr>\n",
       "    <tr>\n",
       "      <th>7</th>\n",
       "      <td>2020-01-13</td>\n",
       "      <td>105.125999</td>\n",
       "      <td>98.699997</td>\n",
       "      <td>98.400002</td>\n",
       "      <td>104.972000</td>\n",
       "    </tr>\n",
       "    <tr>\n",
       "      <th>8</th>\n",
       "      <td>2020-01-14</td>\n",
       "      <td>109.482002</td>\n",
       "      <td>108.851997</td>\n",
       "      <td>104.980003</td>\n",
       "      <td>107.584000</td>\n",
       "    </tr>\n",
       "    <tr>\n",
       "      <th>9</th>\n",
       "      <td>2020-01-15</td>\n",
       "      <td>107.568001</td>\n",
       "      <td>105.952003</td>\n",
       "      <td>103.358002</td>\n",
       "      <td>103.699997</td>\n",
       "    </tr>\n",
       "  </tbody>\n",
       "</table>\n",
       "</div>"
      ],
      "text/plain": [
       "        Date        High        Open         Low       Close\n",
       "0 2020-01-02   86.139999   84.900002   84.342003   86.052002\n",
       "1 2020-01-03   90.800003   88.099998   87.384003   88.601997\n",
       "2 2020-01-06   90.311996   88.094002   88.000000   90.307999\n",
       "3 2020-01-07   94.325996   92.279999   90.671997   93.811996\n",
       "4 2020-01-08   99.697998   94.739998   93.646004   98.428001\n",
       "5 2020-01-09   99.760002   99.419998   94.573997   96.267998\n",
       "6 2020-01-10   96.987999   96.358002   94.739998   95.629997\n",
       "7 2020-01-13  105.125999   98.699997   98.400002  104.972000\n",
       "8 2020-01-14  109.482002  108.851997  104.980003  107.584000\n",
       "9 2020-01-15  107.568001  105.952003  103.358002  103.699997"
      ]
     },
     "execution_count": 18,
     "metadata": {},
     "output_type": "execute_result"
    }
   ],
   "source": [
    "# prepare dataset to work with \n",
    "tsla_df=df[[\"Date\",\"High\",\"Open\",\"Low\",\"Close\"]]\n",
    "tsla_df.head(10)\n"
   ]
  },
  {
   "cell_type": "code",
   "execution_count": 19,
   "metadata": {},
   "outputs": [
    {
     "data": {
      "image/png": "[encoded data removed]",
      "text/plain": [
       "<Figure size 1152x576 with 1 Axes>"
      ]
     },
     "metadata": {},
     "output_type": "display_data"
    }
   ],
   "source": [
    "# Plot Open vs Close\n",
    "tsla_df[['Open','Close']].head(20).plot(kind='bar',figsize=(16,8))\n",
    "plt.grid(which='major', linestyle='-', linewidth='0.5', color='green')\n",
    "plt.grid(which='minor', linestyle=':', linewidth='0.5', color='black')\n",
    "plt.show()\n"
   ]
  },
  {
   "cell_type": "code",
   "execution_count": 89,
   "metadata": {},
   "outputs": [
    {
     "data": {
      "image/png": "[encoded data removed]",
      "text/plain": [
       "<Figure size 1152x576 with 1 Axes>"
      ]
     },
     "metadata": {},
     "output_type": "display_data"
    }
   ],
   "source": [
    "# Plot High vs Close\n",
    "tsla_df[['High','Close']].head(20).plot(kind='bar',figsize=(16,8))\n",
    "plt.grid(which='major', linestyle='-', linewidth='0.5', color='green')\n",
    "plt.grid(which='minor', linestyle=':', linewidth='0.5', color='black')\n",
    "plt.show()\n"
   ]
  },
  {
   "cell_type": "code",
   "execution_count": 20,
   "metadata": {},
   "outputs": [
    {
     "data": {
      "image/png": "[encoded data removed]",
      "text/plain": [
       "<Figure size 1152x576 with 1 Axes>"
      ]
     },
     "metadata": {},
     "output_type": "display_data"
    }
   ],
   "source": [
    "# Plot Low vs Close\n",
    "df[['Low','Close']].head(20).plot(kind='bar',figsize=(16,8))\n",
    "plt.grid(which='major', linestyle='-', linewidth='0.5', color='green')\n",
    "plt.grid(which='minor', linestyle=':', linewidth='0.5', color='black')\n",
    "plt.show()\n"
   ]
  },
  {
   "cell_type": "code",
   "execution_count": 21,
   "metadata": {},
   "outputs": [
    {
     "name": "stderr",
     "output_type": "stream",
     "text": [
      "<ipython-input-21-187d3400bef1>:3: SettingWithCopyWarning: \n",
      "A value is trying to be set on a copy of a slice from a DataFrame.\n",
      "Try using .loc[row_indexer,col_indexer] = value instead\n",
      "\n",
      "See the caveats in the documentation: https://pandas.pydata.org/pandas-docs/stable/user_guide/indexing.html#returning-a-view-versus-a-copy\n",
      "  tsla_df[\"Year\"]= df[\"Date\"].dt.year\n"
     ]
    }
   ],
   "source": [
    "# Date format is DateTime \n",
    "# it will throw error while training so I have created seperate month, year and date entities\n",
    "tsla_df[\"Year\"]= df[\"Date\"].dt.year\n",
    "tsla_df[\"Month\"]= df[\"Date\"].dt.month\n",
    "tsla_df[\"Day\"]= df[\"Date\"].dt.day"
   ]
  },
  {
   "cell_type": "code",
   "execution_count": 23,
   "metadata": {},
   "outputs": [],
   "source": [
    "# separate Independent and dependent variable\n",
    "X = tsla_df.iloc[:,tsla_df.columns !=\"Close\"]\n",
    "Y= tsla_df.iloc[:, 5]"
   ]
  },
  {
   "cell_type": "code",
   "execution_count": 24,
   "metadata": {},
   "outputs": [
    {
     "name": "stdout",
     "output_type": "stream",
     "text": [
      "(277, 7)\n",
      "(277,)\n"
     ]
    }
   ],
   "source": [
    "print(X.shape) # output: (2671, 7)\n",
    "print(Y.shape) # output: (2671,)\n",
    "\n"
   ]
  },
  {
   "cell_type": "code",
   "execution_count": 25,
   "metadata": {},
   "outputs": [
    {
     "data": {
      "text/html": [
       "<div>\n",
       "<style scoped>\n",
       "    .dataframe tbody tr th:only-of-type {\n",
       "        vertical-align: middle;\n",
       "    }\n",
       "\n",
       "    .dataframe tbody tr th {\n",
       "        vertical-align: top;\n",
       "    }\n",
       "\n",
       "    .dataframe thead th {\n",
       "        text-align: right;\n",
       "    }\n",
       "</style>\n",
       "<table border=\"1\" class=\"dataframe\">\n",
       "  <thead>\n",
       "    <tr style=\"text-align: right;\">\n",
       "      <th></th>\n",
       "      <th>High</th>\n",
       "      <th>Open</th>\n",
       "      <th>Low</th>\n",
       "      <th>Close</th>\n",
       "    </tr>\n",
       "  </thead>\n",
       "  <tbody>\n",
       "    <tr>\n",
       "      <th>267</th>\n",
       "      <td>900.400024</td>\n",
       "      <td>855.000000</td>\n",
       "      <td>838.820007</td>\n",
       "      <td>880.799988</td>\n",
       "    </tr>\n",
       "    <tr>\n",
       "      <th>268</th>\n",
       "      <td>895.900024</td>\n",
       "      <td>891.380005</td>\n",
       "      <td>871.599976</td>\n",
       "      <td>883.090027</td>\n",
       "    </tr>\n",
       "    <tr>\n",
       "      <th>269</th>\n",
       "      <td>891.500000</td>\n",
       "      <td>870.349976</td>\n",
       "      <td>858.659973</td>\n",
       "      <td>864.159973</td>\n",
       "    </tr>\n",
       "    <tr>\n",
       "      <th>270</th>\n",
       "      <td>848.000000</td>\n",
       "      <td>820.000000</td>\n",
       "      <td>801.000000</td>\n",
       "      <td>835.429993</td>\n",
       "    </tr>\n",
       "    <tr>\n",
       "      <th>271</th>\n",
       "      <td>842.409973</td>\n",
       "      <td>830.000000</td>\n",
       "      <td>780.099976</td>\n",
       "      <td>793.530029</td>\n",
       "    </tr>\n",
       "    <tr>\n",
       "      <th>272</th>\n",
       "      <td>842.000000</td>\n",
       "      <td>814.289978</td>\n",
       "      <td>795.559998</td>\n",
       "      <td>839.809998</td>\n",
       "    </tr>\n",
       "    <tr>\n",
       "      <th>273</th>\n",
       "      <td>880.500000</td>\n",
       "      <td>844.679993</td>\n",
       "      <td>842.200012</td>\n",
       "      <td>872.789978</td>\n",
       "    </tr>\n",
       "    <tr>\n",
       "      <th>274</th>\n",
       "      <td>878.080017</td>\n",
       "      <td>877.020020</td>\n",
       "      <td>853.059998</td>\n",
       "      <td>854.690002</td>\n",
       "    </tr>\n",
       "    <tr>\n",
       "      <th>275</th>\n",
       "      <td>856.500000</td>\n",
       "      <td>855.000000</td>\n",
       "      <td>833.419983</td>\n",
       "      <td>849.989990</td>\n",
       "    </tr>\n",
       "    <tr>\n",
       "      <th>276</th>\n",
       "      <td>864.770020</td>\n",
       "      <td>845.000000</td>\n",
       "      <td>838.969971</td>\n",
       "      <td>852.229980</td>\n",
       "    </tr>\n",
       "  </tbody>\n",
       "</table>\n",
       "</div>"
      ],
      "text/plain": [
       "           High        Open         Low       Close\n",
       "267  900.400024  855.000000  838.820007  880.799988\n",
       "268  895.900024  891.380005  871.599976  883.090027\n",
       "269  891.500000  870.349976  858.659973  864.159973\n",
       "270  848.000000  820.000000  801.000000  835.429993\n",
       "271  842.409973  830.000000  780.099976  793.530029\n",
       "272  842.000000  814.289978  795.559998  839.809998\n",
       "273  880.500000  844.679993  842.200012  872.789978\n",
       "274  878.080017  877.020020  853.059998  854.690002\n",
       "275  856.500000  855.000000  833.419983  849.989990\n",
       "276  864.770020  845.000000  838.969971  852.229980"
      ]
     },
     "execution_count": 25,
     "metadata": {},
     "output_type": "execute_result"
    }
   ],
   "source": [
    "# prepare dataset to work with \n",
    "tsla_df=df[[\"High\",\"Open\",\"Low\",\"Close\"]]\n",
    "tsla_df.tail(10)"
   ]
  },
  {
   "cell_type": "code",
   "execution_count": 26,
   "metadata": {},
   "outputs": [],
   "source": [
    "# separate Independent and dependent variable\n",
    "x = tsla_df.iloc[:,tsla_df.columns !=\"Close\"]\n",
    "y= tsla_df.iloc[:, 3]"
   ]
  },
  {
   "cell_type": "code",
   "execution_count": 27,
   "metadata": {},
   "outputs": [],
   "source": [
    "from sklearn.model_selection import train_test_split\n",
    "x_train,x_test,y_train,y_test= train_test_split(x,y,test_size=.15)\n"
   ]
  },
  {
   "cell_type": "code",
   "execution_count": 28,
   "metadata": {},
   "outputs": [
    {
     "name": "stdout",
     "output_type": "stream",
     "text": [
      "(235, 3)\n",
      "(42, 3)\n",
      "(235,)\n",
      "(42,)\n"
     ]
    }
   ],
   "source": [
    "print(x_train.shape) # output: (2003, 7)\n",
    "print(x_test.shape)  # output: (668, 7)\n",
    "print(y_train.shape) # output: (2003,)\n",
    "print(y_test.shape)  # output: (668,)\n",
    "# y_test to be evaluated with y_pred for Diff models"
   ]
  },
  {
   "cell_type": "markdown",
   "metadata": {},
   "source": [
    "# 1. Linear Regression Model Training and Testing"
   ]
  },
  {
   "cell_type": "code",
   "execution_count": 29,
   "metadata": {},
   "outputs": [],
   "source": [
    "# Linear Regression Model Training and Testing\n",
    "lr_model=LinearRegression()\n",
    "lr_model.fit(x_train,y_train)\n",
    "y_pred=lr_model.predict(x_test)\n"
   ]
  },
  {
   "cell_type": "code",
   "execution_count": 30,
   "metadata": {},
   "outputs": [
    {
     "name": "stdout",
     "output_type": "stream",
     "text": [
      "Accuracy:  92.83262113358332\n"
     ]
    }
   ],
   "source": [
    "# Linear Model Cross-Validation\n",
    "from sklearn import model_selection\n",
    "from sklearn.model_selection import KFold\n",
    "kfold = model_selection.KFold(n_splits=20)\n",
    "results_kfold = model_selection.cross_val_score(lr_model, x_test, y_test.astype('int'), cv=kfold)\n",
    "print(\"Accuracy: \", results_kfold.mean()*100)\n"
   ]
  },
  {
   "cell_type": "code",
   "execution_count": null,
   "metadata": {},
   "outputs": [],
   "source": [
    "# Plot Actual vs Predicted Value"
   ]
  },
  {
   "cell_type": "code",
   "execution_count": 31,
   "metadata": {},
   "outputs": [
    {
     "data": {
      "image/png": "[encoded data removed]",
      "text/plain": [
       "<Figure size 1152x576 with 1 Axes>"
      ]
     },
     "metadata": {},
     "output_type": "display_data"
    }
   ],
   "source": [
    "plot_df=pd.DataFrame({\"Actual\":y_test,\"Pred\":y_pred})\n",
    "plot_df.head(20).plot(kind='bar',figsize=(16,8))\n",
    "plt.grid(which='major', linestyle='-', linewidth='0.5', color='green')\n",
    "plt.grid(which='minor', linestyle=':', linewidth='0.5', color='black')\n",
    "plt.show()\n"
   ]
  },
  {
   "cell_type": "markdown",
   "metadata": {},
   "source": [
    "# 2. KNN Model Training and Testing"
   ]
  },
  {
   "cell_type": "code",
   "execution_count": 32,
   "metadata": {},
   "outputs": [],
   "source": [
    "# KNN Model Training and Testing\n",
    "# from pandas.tseries import converter\n",
    "# converter.register()\n",
    "\n",
    "from sklearn.neighbors import KNeighborsRegressor\n",
    "knn_regressor=KNeighborsRegressor(n_neighbors = 5)\n",
    "knn_model=knn_regressor.fit(x_train,y_train)\n",
    "y_knn_pred=knn_model.predict(x_test)\n"
   ]
  },
  {
   "cell_type": "code",
   "execution_count": null,
   "metadata": {},
   "outputs": [],
   "source": []
  },
  {
   "cell_type": "code",
   "execution_count": 33,
   "metadata": {},
   "outputs": [
    {
     "name": "stdout",
     "output_type": "stream",
     "text": [
      "Accuracy: -579.771133849358\n"
     ]
    }
   ],
   "source": [
    "# KNN Cross-Validation\n",
    "# knn_kfold = model_selection.KFold(n_splits=20, random_state=100)\n",
    "knn_kfold = model_selection.KFold(n_splits=20, random_state=None)\n",
    "results_kfold = model_selection.cross_val_score(knn_model, x_test, y_test.astype(\"int\"), cv=knn_kfold)\n",
    "print(\"Accuracy:\", results_kfold.mean()*100)\n"
   ]
  },
  {
   "cell_type": "code",
   "execution_count": 34,
   "metadata": {},
   "outputs": [
    {
     "data": {
      "image/png": "[encoded data removed]",
      "text/plain": [
       "<Figure size 1152x576 with 1 Axes>"
      ]
     },
     "metadata": {},
     "output_type": "display_data"
    }
   ],
   "source": [
    "# Plot Actual vs Predicted\n",
    "plot_knn_df=pd.DataFrame({\"Actual\":y_test,\"Pred\":y_knn_pred})\n",
    "plot_knn_df.head(20).plot(kind=\"bar\",figsize=(16,8))\n",
    "plt.grid(which=\"major\", linestyle=\"-\", linewidth=\"0.5\", color=\"green\")\n",
    "plt.grid(which=\"minor\", linestyle=\":\", linewidth=\"0.5\", color=\"black\")\n",
    "plt.show()\n",
    "         "
   ]
  },
  {
   "cell_type": "code",
   "execution_count": null,
   "metadata": {},
   "outputs": [],
   "source": []
  },
  {
   "cell_type": "markdown",
   "metadata": {},
   "source": [
    "# 3. SVM (Support Vector Machine) Model Training and Testing"
   ]
  },
  {
   "cell_type": "code",
   "execution_count": 36,
   "metadata": {},
   "outputs": [],
   "source": [
    "from sklearn.svm import SVR\n",
    "svm_regressor = SVR(kernel=\"linear\")\n",
    "svm_model=svm_regressor.fit(x_train,y_train)\n",
    "y_svm_pred=svm_model.predict(x_test)"
   ]
  },
  {
   "cell_type": "code",
   "execution_count": 37,
   "metadata": {},
   "outputs": [
    {
     "data": {
      "image/png": "[encoded data removed]",
      "text/plain": [
       "<Figure size 1152x576 with 1 Axes>"
      ]
     },
     "metadata": {},
     "output_type": "display_data"
    }
   ],
   "source": [
    "# Plot Actual vs Predicted\n",
    "plot_svm_df=pd.DataFrame({\"Actual\":y_test,\"Pred\":y_svm_pred})\n",
    "plot_svm_df.head(20).plot(kind=\"bar\",figsize=(16,8))\n",
    "plt.grid(which=\"major\", linestyle=\"-\", linewidth=\"0.5\", color=\"green\")\n",
    "plt.grid(which=\"minor\", linestyle=\":\", linewidth=\"0.5\", color=\"black\")\n",
    "plt.show()\n",
    "    \n"
   ]
  },
  {
   "cell_type": "markdown",
   "metadata": {},
   "source": [
    "# RMSE (Root Mean Square Error)"
   ]
  },
  {
   "cell_type": "code",
   "execution_count": 38,
   "metadata": {},
   "outputs": [],
   "source": [
    "from sklearn.metrics import mean_squared_error , r2_score\n",
    "import math"
   ]
  },
  {
   "cell_type": "code",
   "execution_count": 39,
   "metadata": {},
   "outputs": [
    {
     "name": "stdout",
     "output_type": "stream",
     "text": [
      "Linear Model Root Mean Square Error 6.202588134874415\n"
     ]
    }
   ],
   "source": [
    "lr_mse=math.sqrt(mean_squared_error(y_test,y_pred))\n",
    "print(\"Linear Model Root Mean Square Error\",lr_mse)\n"
   ]
  },
  {
   "cell_type": "code",
   "execution_count": 40,
   "metadata": {},
   "outputs": [
    {
     "name": "stdout",
     "output_type": "stream",
     "text": [
      "KNN Model Root Mean Square Error 9.644821419079896\n"
     ]
    }
   ],
   "source": [
    "knn_mse=math.sqrt(mean_squared_error(y_test,y_knn_pred))\n",
    "print(\"KNN Model Root Mean Square Error\",knn_mse)\n"
   ]
  },
  {
   "cell_type": "code",
   "execution_count": 42,
   "metadata": {},
   "outputs": [
    {
     "name": "stdout",
     "output_type": "stream",
     "text": [
      "SVM Model Root Mean Square Error SVM 6.557998371907126\n"
     ]
    }
   ],
   "source": [
    "svm_mse=math.sqrt(mean_squared_error(y_test,y_svm_pred))\n",
    "print(\"SVM Model Root Mean Square Error SVM\",svm_mse)"
   ]
  },
  {
   "cell_type": "markdown",
   "metadata": {},
   "source": [
    "# R2 or r-squared error\n",
    "# Mathematical Formula for r2 score :(y_test[i] — y_pred[i]) **2"
   ]
  },
  {
   "cell_type": "code",
   "execution_count": 43,
   "metadata": {},
   "outputs": [
    {
     "name": "stdout",
     "output_type": "stream",
     "text": [
      "Linear R2:  0.9991380399076849\n",
      "KNN R2:  0.9979158467378687\n",
      "SVM R2:  0.9990364286469727\n"
     ]
    }
   ],
   "source": [
    "print(\"Linear R2: \", r2_score(y_test, y_pred))\n",
    "print(\"KNN R2: \", r2_score(y_test, y_knn_pred))\n",
    "print(\"SVM R2: \", r2_score(y_test, y_svm_pred))"
   ]
  }
 ],
 "metadata": {
  "kernelspec": {
   "display_name": "Python 3",
   "language": "python",
   "name": "python3"
  },
  "language_info": {
   "codemirror_mode": {
    "name": "ipython",
    "version": 3
   },
   "file_extension": ".py",
   "mimetype": "text/x-python",
   "name": "python",
   "nbconvert_exporter": "python",
   "pygments_lexer": "ipython3",
   "version": "3.8.3"
  }
 },
 "nbformat": 4,
 "nbformat_minor": 4
}
